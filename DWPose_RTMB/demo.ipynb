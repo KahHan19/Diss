{
 "cells": [
  {
   "cell_type": "code",
   "execution_count": 1,
   "id": "67e0c462",
   "metadata": {},
   "outputs": [
    {
     "name": "stdout",
     "output_type": "stream",
     "text": [
      "Defaulting to user installation because normal site-packages is not writeable\n",
      "Obtaining file:///C:/Users/Kah%20Han/Documents/GitHub\n"
     ]
    },
    {
     "name": "stderr",
     "output_type": "stream",
     "text": [
      "ERROR: file:///C:/Users/Kah%20Han/Documents/GitHub does not appear to be a Python project: neither 'setup.py' nor 'pyproject.toml' found.\n"
     ]
    }
   ],
   "source": [
    "!pip install rtmlib -i https://pypi.org/simple\n",
    "!pip install -r requirements.txt\n",
    "!pip install -e .\n",
    "!pip install onnxruntime-gpu"
   ]
  },
  {
   "cell_type": "code",
   "execution_count": 2,
   "id": "c205344a",
   "metadata": {},
   "outputs": [
    {
     "name": "stdout",
     "output_type": "stream",
     "text": [
      "load C:\\Users\\Kah Han\\.cache\\rtmlib\\hub\\checkpoints\\yolox_m_8xb8-300e_humanart-c2c7a14a.onnx with onnxruntime backend\n",
      "load C:\\Users\\Kah Han\\.cache\\rtmlib\\hub\\checkpoints\\rtmpose-l_simcc-ucoco_dw-ucoco_270e-384x288-2438fd99_20230728.onnx with onnxruntime backend\n"
     ]
    },
    {
     "data": {
      "text/plain": [
       "-1"
      ]
     },
     "execution_count": 2,
     "metadata": {},
     "output_type": "execute_result"
    }
   ],
   "source": [
    "import cv2\n",
    "from rtmlib import Wholebody, draw_skeleton\n",
    "import numpy as np\n",
    "\n",
    "device = 'cpu' \n",
    "backend = 'onnxruntime' \n",
    "img = cv2.imread('./2.png') # Replace it with your image and run\n",
    "\n",
    "openpose_skeleton = True  # True for openpose-style, False for mmpose-style\n",
    "\n",
    "wholebody = Wholebody(to_openpose=openpose_skeleton,\n",
    "                      mode='performance',  # 'performance', 'lightweight', 'balanced'. Default: 'balanced'\n",
    "                      backend=backend, device=device)\n",
    "\n",
    "\n",
    "keypoints, scores = wholebody(img)\n",
    "img_show = draw_skeleton(img,keypoints,scores,openpose_skeleton=openpose_skeleton,kpt_thr=0.5)\n",
    "\n",
    "\n",
    "cv2.imshow('img', img_show)\n",
    "cv2.waitKey()\n",
    "\n",
    "\n",
    "\n",
    "\n"
   ]
  }
 ],
 "metadata": {
  "kernelspec": {
   "display_name": "Python 3 (ipykernel)",
   "language": "python",
   "name": "python3"
  },
  "language_info": {
   "codemirror_mode": {
    "name": "ipython",
    "version": 3
   },
   "file_extension": ".py",
   "mimetype": "text/x-python",
   "name": "python",
   "nbconvert_exporter": "python",
   "pygments_lexer": "ipython3",
   "version": "3.10.6"
  }
 },
 "nbformat": 4,
 "nbformat_minor": 5
}
