{
 "cells": [
  {
   "cell_type": "code",
   "execution_count": 1,
   "id": "67e0c462",
   "metadata": {},
   "outputs": [
    {
     "name": "stdout",
     "output_type": "stream",
     "text": [
      "Defaulting to user installation because normal site-packages is not writeable\n",
      "Obtaining file:///C:/Users/Kah%20Han/Documents/GitHub\n"
     ]
    },
    {
     "name": "stderr",
     "output_type": "stream",
     "text": [
      "ERROR: file:///C:/Users/Kah%20Han/Documents/GitHub does not appear to be a Python project: neither 'setup.py' nor 'pyproject.toml' found.\n"
     ]
    }
   ],
   "source": [
    "# !pip install rtmlib -i https://pypi.org/simple\n",
    "# !pip install -r requirements.txt\n",
    "!pip install -e .\n",
    "# !pip install onnxruntime-gpu"
   ]
  },
  {
   "cell_type": "code",
   "execution_count": 2,
   "id": "c205344a",
   "metadata": {},
   "outputs": [
    {
     "name": "stdout",
     "output_type": "stream",
     "text": [
      "load C:\\Users\\Kah Han\\.cache\\rtmlib\\hub\\checkpoints\\yolox_m_8xb8-300e_humanart-c2c7a14a.onnx with onnxruntime backend\n",
      "load C:\\Users\\Kah Han\\.cache\\rtmlib\\hub\\checkpoints\\rtmpose-l_simcc-ucoco_dw-ucoco_270e-384x288-2438fd99_20230728.onnx with onnxruntime backend\n"
     ]
    },
    {
     "data": {
      "text/plain": [
       "-1"
      ]
     },
     "execution_count": 2,
     "metadata": {},
     "output_type": "execute_result"
    }
   ],
   "source": [
    "import cv2\n",
    "from rtmlib import Wholebody, draw_skeleton\n",
    "import numpy as np\n",
    "\n",
    "device = 'cpu'  # cpu, cuda\n",
    "backend = 'onnxruntime'  # opencv, onnxruntime, openvino\n",
    "img = cv2.imread('./2.png')\n",
    "\n",
    "openpose_skeleton = True  # True for openpose-style, False for mmpose-style\n",
    "\n",
    "wholebody = Wholebody(to_openpose=openpose_skeleton,\n",
    "                      mode='performance',  # 'performance', 'lightweight', 'balanced'. Default: 'balanced'\n",
    "                      backend=backend, device=device)\n",
    "\n",
    "\n",
    "keypoints, scores = wholebody(img)\n",
    "img_show = draw_skeleton(img,keypoints,scores,openpose_skeleton=openpose_skeleton,kpt_thr=0.5)\n",
    "\n",
    "\n",
    "cv2.imshow('img', img_show)\n",
    "cv2.waitKey()\n",
    "\n",
    "\n",
    "\n",
    "\n"
   ]
  },
  {
   "cell_type": "code",
   "execution_count": 1,
   "id": "2d9bae7e",
   "metadata": {},
   "outputs": [
    {
     "name": "stdout",
     "output_type": "stream",
     "text": [
      "load C:\\Users\\Kah Han\\.cache\\rtmlib\\hub\\checkpoints\\yolox_m_8xb8-300e_humanart-c2c7a14a.onnx with onnxruntime backend\n",
      "load C:\\Users\\Kah Han\\.cache\\rtmlib\\hub\\checkpoints\\rtmpose-l_simcc-ucoco_dw-ucoco_270e-384x288-2438fd99_20230728.onnx with onnxruntime backend\n"
     ]
    }
   ],
   "source": [
    "import os\n",
    "import cv2\n",
    "import numpy as np\n",
    "from rtmlib import Wholebody\n",
    "import concurrent.futures\n",
    "\n",
    "# Define the path to the directory containing the test.file\n",
    "test_folder_path = os.path.join(\"DWPose\")\n",
    "# Define the path to the test.file\n",
    "test_file_path = os.path.join(test_folder_path, \"chicken.files\")\n",
    "output_file_path = \"DWPose\\chicken.skels\"\n",
    "\n",
    "device = 'cpu'  # cpu, cuda\n",
    "backend = 'onnxruntime'  # opencv, onnxruntime, openvino\n",
    "openpose_skeleton = True \n",
    "\n",
    "wholebody = Wholebody(to_openpose=openpose_skeleton,\n",
    "                      mode='performance',  # 'performance', 'lightweight', 'balanced'. Default: 'balanced'\n",
    "                      backend=backend, device=device)\n",
    "\n",
    "# Function to process images and return keypoints along with the image file\n",
    "def process_image(image_file):\n",
    "    img = cv2.imread(image_file)\n",
    "    if img is not None:\n",
    "        keypoints, _ = wholebody(img)\n",
    "        return image_file, np.array(keypoints).flatten()\n",
    "    return image_file, None\n",
    "\n",
    "# Open the test.file and read its contents line by line\n",
    "with open(test_file_path, \"r\") as input_file, open(output_file_path, \"w\") as output_file:\n",
    "    for line in input_file:\n",
    "        # Remove any leading or trailing whitespace characters\n",
    "        line = line.strip()\n",
    "        # Construct the full path to the image folder using the line content\n",
    "        image_folder_path = os.path.join(\"PHOENIX-2014-T-release-v3\", \"PHOENIX-2014-T\", \"features\", \"fullFrame-210x260px\", line)\n",
    "        if os.path.isdir(image_folder_path):  # Check if the path is a directory\n",
    "            image_files = [os.path.join(image_folder_path, f) for f in os.listdir(image_folder_path)]\n",
    "\n",
    "            # Process images asynchronously\n",
    "            with concurrent.futures.ThreadPoolExecutor() as executor:\n",
    "                # Submit image processing tasks\n",
    "                future_to_file = {executor.submit(process_image, image_file): image_file for image_file in image_files}\n",
    "                \n",
    "                # Store results in a dictionary to maintain the order\n",
    "                results = {}\n",
    "                for future in concurrent.futures.as_completed(future_to_file):\n",
    "                    image_file = future_to_file[future]\n",
    "                    results[image_file] = future.result()\n",
    "\n",
    "                # Sort results based on the order of image files\n",
    "                sorted_results = [results[image_file] for image_file in image_files if results[image_file][1] is not None]\n",
    "\n",
    "                # Write keypoints to output file for this image folder\n",
    "                for image_file, keypoints in sorted_results:\n",
    "                    keypoints_str = \" \".join(map(str, keypoints))\n",
    "                    output_file.write(keypoints_str + \" \")\n",
    "                \n",
    "                # Write a newline character to separate keypoints of different folders\n",
    "                output_file.write(\"\\n\")"
   ]
  },
  {
   "cell_type": "code",
   "execution_count": 11,
   "id": "0103eed8",
   "metadata": {},
   "outputs": [
    {
     "name": "stdout",
     "output_type": "stream",
     "text": [
      "644.3992537313433\n",
      "552.8992537313433\n"
     ]
    }
   ],
   "source": [
    "import os\n",
    "\n",
    "test_folder_path = os.path.join(\"DWPose\")\n",
    "x = 0\n",
    "# Define the path to the test.file\n",
    "test_file_path = os.path.join(test_folder_path, \"chicken.skels\")\n",
    "with open(test_file_path, \"r\") as input_file:\n",
    "    for line in input_file:\n",
    "        # line = line.split(\" \")\n",
    "        x += (len(line))\n",
    "\n",
    "print(x/268)\n"
   ]
  },
  {
   "cell_type": "code",
   "execution_count": 9,
   "metadata": {},
   "outputs": [
    {
     "name": "stdout",
     "output_type": "stream",
     "text": [
      "[[[123.21422635184393, 49.4813871383667], [119.0235361258189, 121.16424411535263], [77.33719650904337, 120.94368147850037], [33.224667814042846, 202.5518571138382], [71.16144249174329, 158.43932974338531], [160.70987574259442, 121.3848067522049], [193.7942722638448, 211.8154878616333], [162.91550217734442, 178.2899670600891], [87.04195282194348, 251.5167624950409], [63.22118732664319, 119.62030565738678], [72.04369306564331, 299.59941732883453], [146.1527412732442, 253.72238886356354], [234.3777986632453, 299.59941732883453], [155.85749758614435, 299.59941732883453], [113.06834475199383, 39.776631116867065], [131.15448151694403, 40.217756390571594], [99.83458614349365, 56.09826624393463], [139.97698725594415, 53.45151460170746], [133.3601079516941, 146.0878220796585], [135.12460909949408, 237.40075373649597], [154.0929964383443, 199.4639801979065], [111.7449688911438, 132.41293859481812], [99.83458614349365, 247.54663503170013], [73.80819421344333, 246.66438448429108], [100.71683671739368, 45.07013440132141], [100.71683671739368, 51.68701350688934], [101.59908729129367, 57.42164206504822], [102.92246315214368, 63.59739589691162], [104.68696429994372, 69.77314972877502], [107.33371602164374, 75.06665301322937], [111.30384360419379, 80.36015629768372], [116.15622176064386, 84.771409034729], [122.33197577794391, 86.53591012954712], [128.066604508294, 84.771409034729], [132.91898266474408, 80.36015629768372], [136.0068596733941, 74.18440246582031], [137.33023553424414, 68.00864863395691], [138.65361139509412, 61.832894802093506], [139.09473668204413, 55.6571409702301], [139.53586196899414, 49.4813871383667], [138.65361139509412, 42.86450803279877], [105.56921487384372, 31.836376190185547], [108.21596659554376, 29.630749821662903], [111.30384360419379, 28.748499274253845], [114.39172061284381, 28.307374000549316], [117.92072290844388, 28.748499274253845], [127.18435393439398, 29.189624547958374], [129.831105656094, 28.748499274253845], [132.47785737779407, 29.189624547958374], [134.68348381254407, 30.07187509536743], [136.88911024729413, 32.277501463890076], [122.77310106489395, 39.776631116867065], [123.21422635184393, 42.86450803279877], [123.65535163879395, 45.95238494873047], [124.09647692574396, 49.04026186466217], [119.24409876929388, 54.774890422821045], [121.44972520404392, 54.774890422821045], [123.65535163879395, 54.774890422821045], [125.86097807354398, 54.774890422821045], [127.625479221344, 54.333765149116516], [109.09821716944379, 40.65888166427612], [111.7449688911438, 38.89438056945801], [114.83284589979385, 38.89438056945801], [117.47959762149387, 40.65888166427612], [114.83284589979385, 41.98225748538971], [111.7449688911438, 41.98225748538971], [126.743228647444, 41.10000693798065], [128.94885508219403, 38.89438056945801], [132.03673209084405, 39.33550584316254], [134.68348381254407, 41.10000693798065], [132.03673209084405, 41.98225748538971], [129.38998036914404, 41.98225748538971], [117.47959762149387, 65.36189699172974], [119.24409876929388, 61.832894802093506], [122.33197577794391, 59.62726843357086], [124.09647692574396, 59.62726843357086], [125.41985278659396, 59.62726843357086], [128.066604508294, 61.832894802093506], [128.94885508219403, 65.36189699172974], [128.066604508294, 68.44977390766144], [126.743228647444, 70.65540027618408], [124.09647692574396, 71.97877609729767], [121.00859991709393, 70.65540027618408], [118.8029734823439, 68.44977390766144], [118.36184819539386, 65.36189699172974], [120.56747463014389, 63.15627062320709], [123.65535163879395, 62.274020075798035], [126.743228647444, 63.15627062320709], [128.507729795244, 65.36189699172974], [126.743228647444, 67.56752336025238], [124.09647692574396, 68.44977390766144], [120.56747463014389, 67.56752336025238], [156.29862287309436, 182.7012197971344], [150.12286885579425, 176.96659123897552], [142.62373897764417, 170.79083740711212], [138.65361139509412, 171.23196268081665], [136.0068596733941, 173.87871432304382], [146.59386656019421, 155.3514528274536], [143.9471148384942, 155.79257810115814], [143.5059895515442, 160.20383083820343], [143.5059895515442, 168.58521103858948], [152.3284952905443, 157.11595392227173], [148.79949299494427, 163.29170775413513], [147.47611713409424, 172.55533850193024], [147.03499184714423, 177.84884178638458], [157.62199873394434, 160.20383083820343], [154.0929964383443, 167.70296049118042], [152.3284952905443, 175.64321541786194], [151.4462447166443, 180.05446815490723], [162.0332516034444, 163.73283302783966], [158.94537459479437, 170.3497121334076], [156.73974816004437, 176.08434069156647], [155.41637229919434, 179.6133428812027], [77.33719650904337, 161.0860813856125], [85.27745167414346, 155.3514528274536], [94.98220798704358, 150.4990748167038], [100.71683671739368, 146.52894735336304], [105.12808958689371, 143.88219571113586], [92.77658155229358, 131.08956277370453], [98.07008499569363, 128.44281113147736], [100.71683671739368, 133.29518914222717], [101.15796200434366, 139.47094297409058], [88.36532868279352, 130.6484375], [95.42333327399359, 132.85406386852264], [97.62895970874362, 144.3233209848404], [97.18783442179361, 150.94020009040833], [83.51295052634345, 133.7363144159317], [90.12982983059354, 138.58869242668152], [91.89433097839355, 147.85232317447662], [91.45320569144354, 154.02807700634003], [78.6605723698934, 138.147567152977], [84.39520110024347, 142.9999451637268], [86.15970224804349, 149.1756989955902], [86.15970224804349, 153.5869517326355]]]\n",
      "(1, 134, 2)\n"
     ]
    },
    {
     "data": {
      "text/plain": [
       "-1"
      ]
     },
     "execution_count": 9,
     "metadata": {},
     "output_type": "execute_result"
    }
   ],
   "source": [
    "# original_list = [1, 2, 3, 4, 5, 6]\n",
    "# new_list = [[[x, y] for x, y in zip(original_list[::2], original_list[1::2])]]\n",
    "# print(new_list)\n",
    "# l = np.array(new_list)\n",
    "# print(l.shape)\n",
    "\n",
    "import cv2\n",
    "from rtmlib import Wholebody, draw_skeleton\n",
    "import numpy as np\n",
    "\n",
    "# device = 'cpu'  # cpu, cuda\n",
    "# backend = 'onnxruntime'  # opencv, onnxruntime, openvino\n",
    "# img = cv2.imread('PHOENIX-2014-T-release-v3\\PHOENIX-2014-T\\features\\fullFrame-210x260px\\chicken\\2\\1.png')\n",
    "\n",
    "output_file_path = \"DWPose\\chicken.skels\"\n",
    "img = cv2.imread('1.png')\n",
    "\n",
    "# openpose_skeleton = True  # True for openpose-style, False for mmpose-style\n",
    "\n",
    "# wholebody = Wholebody(to_openpose=openpose_skeleton,\n",
    "#                       mode='performance',  # 'performance', 'lightweight', 'balanced'. Default: 'balanced'\n",
    "#                       backend=backend, device=device)\n",
    "\n",
    "\n",
    "\n",
    "# keypoints, scores = wholebody(img)\n",
    "\n",
    "\n",
    "with open(output_file_path, \"r\") as input_file:\n",
    "    line = input_file.readline()\n",
    "    line = input_file.readline()\n",
    "    line = line.split(\" \")\n",
    "    line = line[:268]\n",
    "    new_list = [[[float(x), float(y)] for x, y in zip(line[::2], line[1::2])]]\n",
    "    print(new_list)\n",
    "    l = np.array(new_list)\n",
    "    print(l.shape)\n",
    "\n",
    "img_show = np.zeros(img.shape, dtype=np.uint8)\n",
    "\n",
    "img_show = draw_skeleton(img_show,l,scores,openpose_skeleton=openpose_skeleton,kpt_thr=0.5)\n",
    "cv2.imshow('img', img_show)\n",
    "cv2.waitKey()"
   ]
  }
 ],
 "metadata": {
  "kernelspec": {
   "display_name": "Python 3 (ipykernel)",
   "language": "python",
   "name": "python3"
  },
  "language_info": {
   "codemirror_mode": {
    "name": "ipython",
    "version": 3
   },
   "file_extension": ".py",
   "mimetype": "text/x-python",
   "name": "python",
   "nbconvert_exporter": "python",
   "pygments_lexer": "ipython3",
   "version": "3.10.6"
  }
 },
 "nbformat": 4,
 "nbformat_minor": 5
}
